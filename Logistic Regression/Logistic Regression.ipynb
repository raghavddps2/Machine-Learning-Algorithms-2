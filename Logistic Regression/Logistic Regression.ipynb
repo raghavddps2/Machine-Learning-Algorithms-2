{
 "cells": [
  {
   "cell_type": "code",
   "execution_count": 2,
   "metadata": {},
   "outputs": [],
   "source": [
    "import numpy as np\n",
    "import pandas as pd\n",
    "import matplotlib.pyplot as plt"
   ]
  },
  {
   "cell_type": "code",
   "execution_count": 3,
   "metadata": {},
   "outputs": [],
   "source": [
    "# Below is the curve for the sigmoid function,\n",
    "#The sigmoid is giiven by (1/(1+e^-x))\n",
    "X = np.array([-5,-4,-3,-2,-1,0,-1,2,3,4,5])\n",
    "Y = 1/(1+np.exp(-1*X))"
   ]
  },
  {
   "cell_type": "code",
   "execution_count": 4,
   "metadata": {},
   "outputs": [
    {
     "data": {
      "image/png": "[encoded data removed]",
      "text/plain": [
       "<Figure size 432x288 with 1 Axes>"
      ]
     },
     "metadata": {
      "needs_background": "light"
     },
     "output_type": "display_data"
    }
   ],
   "source": [
    "plt.plot(X,Y)\n",
    "plt.show()"
   ]
  },
  {
   "cell_type": "markdown",
   "metadata": {},
   "source": [
    "Here, we need to learn about the Error function or thecost function, that we have to minimize.\n",
    "\n",
    "When yactual = 1,\n",
    "    This means that we have the perfected classification, but we will get the error for a non one value will be\n",
    "    -log(h(x)) where h(x) is the sigmoid function.\n",
    "\n",
    "When yactual = 0\n",
    "    This means we have to gow the error when y predicted is close to 1.\n",
    "    -log(1-h(x))"
   ]
  },
  {
   "cell_type": "markdown",
   "metadata": {},
   "source": [
    "So, the combined comes out to be \n",
    "\n",
    "> Cost/error = -y(pred)log(h(x)) - (1-y(pred))log(1-h(x))\n",
    "    \n",
    "After all this is done, what we basically wanna achieve at each step of basically the gradient descent.such that the value of m for each feature is changed to an optimal value at each step.\n",
    "\n",
    "> new_m = old_m - (Learning rate)(derivative of Error function w.r.t the m)"
   ]
  },
  {
   "cell_type": "markdown",
   "metadata": {},
   "source": [
    "We talked about binary classification above, here what we actually wanna work on is multiclass classification. \n",
    "So, when we come to multiclass classification, we work on the concept of probabilities"
   ]
  },
  {
   "cell_type": "code",
   "execution_count": null,
   "metadata": {},
   "outputs": [],
   "source": []
  }
 ],
 "metadata": {
  "kernelspec": {
   "display_name": "Python 3",
   "language": "python",
   "name": "python3"
  },
  "language_info": {
   "codemirror_mode": {
    "name": "ipython",
    "version": 3
   },
   "file_extension": ".py",
   "mimetype": "text/x-python",
   "name": "python",
   "nbconvert_exporter": "python",
   "pygments_lexer": "ipython3",
   "version": "3.7.4"
  }
 },
 "nbformat": 4,
 "nbformat_minor": 2
}
