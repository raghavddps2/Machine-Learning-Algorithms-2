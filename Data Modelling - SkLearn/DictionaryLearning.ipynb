{
 "cells": [
  {
   "cell_type": "code",
   "execution_count": 1,
   "metadata": {},
   "outputs": [],
   "source": [
    "import numpy as np\n",
    "import pandas as pd\n",
    "import matplotlib.pyplot as plt\n",
    "import seaborn as sns\n",
    "import math"
   ]
  },
  {
   "cell_type": "markdown",
   "metadata": {},
   "source": [
    "# Dictionary_Learning\n",
    "1. Representing learning  method to find a sparse representation of input data, often used in denoising of images\n",
    "#Noise\n",
    "2. Random variations in images due to lightning variation,camera electronics,surface reflectance and lens\n",
    "#Denoising\n",
    "3. process of removing noise from images using filters\n",
    "# Process\n",
    "    - corpus of free images(should be free of noise), to be fed into dictionary learner\n",
    "    - perform dictionary learning(express clean images in terms of atoms)\n",
    "    - choose the transofrmation algorithm\n",
    "    - use of image denoising, apply to new, denoisy images"
   ]
  },
  {
   "cell_type": "code",
   "execution_count": null,
   "metadata": {},
   "outputs": [],
   "source": []
  }
 ],
 "metadata": {
  "kernelspec": {
   "display_name": "Python 3",
   "language": "python",
   "name": "python3"
  },
  "language_info": {
   "codemirror_mode": {
    "name": "ipython",
    "version": 3
   },
   "file_extension": ".py",
   "mimetype": "text/x-python",
   "name": "python",
   "nbconvert_exporter": "python",
   "pygments_lexer": "ipython3",
   "version": "3.7.4"
  }
 },
 "nbformat": 4,
 "nbformat_minor": 2
}
