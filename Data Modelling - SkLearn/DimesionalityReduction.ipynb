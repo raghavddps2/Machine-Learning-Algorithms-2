{
 "cells": [
  {
   "cell_type": "code",
   "execution_count": 27,
   "metadata": {},
   "outputs": [],
   "source": [
    "import pandas as pd\n",
    "import pylab\n",
    "import matplotlib.pyplot as plt\n",
    "from sklearn.model_selection import train_test_split\n",
    "from sklearn.linear_model import LogisticRegression\n",
    "from sklearn.decomposition import FactorAnalysis\n",
    "from sklearn.metrics import accuracy_score,precision_score,recall_score"
   ]
  },
  {
   "cell_type": "code",
   "execution_count": 30,
   "metadata": {},
   "outputs": [
    {
     "data": {
      "text/plain": [
       "Index(['Pregnancies', 'Glucose', 'BloodPressure', 'SkinThickness', 'Insulin',\n",
       "       'BMI', 'DiabetesPedigreeFunction', 'Age', 'Outcome'],\n",
       "      dtype='object')"
      ]
     },
     "execution_count": 30,
     "metadata": {},
     "output_type": "execute_result"
    }
   ],
   "source": [
    "temp_df = pd.read_csv('Datasets/diabetes.csv')\n",
    "temp_df.columns"
   ]
  },
  {
   "cell_type": "code",
   "execution_count": 31,
   "metadata": {},
   "outputs": [
    {
     "data": {
      "text/plain": [
       "Index(['Pregnancies', 'Glucose', 'BloodPressure', 'SkinThickness', 'Insulin',\n",
       "       'BMI', 'DiabetesPedigreeFunction', 'Age', 'Outcome'],\n",
       "      dtype='object')"
      ]
     },
     "execution_count": 31,
     "metadata": {},
     "output_type": "execute_result"
    }
   ],
   "source": [
    "df = pd.read_csv('Datasets/diabetes_processed.csv',names=temp_df.columns)\n",
    "df.columns"
   ]
  },
  {
   "cell_type": "code",
   "execution_count": 32,
   "metadata": {},
   "outputs": [
    {
     "data": {
      "text/html": [
       "<div>\n",
       "<style scoped>\n",
       "    .dataframe tbody tr th:only-of-type {\n",
       "        vertical-align: middle;\n",
       "    }\n",
       "\n",
       "    .dataframe tbody tr th {\n",
       "        vertical-align: top;\n",
       "    }\n",
       "\n",
       "    .dataframe thead th {\n",
       "        text-align: right;\n",
       "    }\n",
       "</style>\n",
       "<table border=\"1\" class=\"dataframe\">\n",
       "  <thead>\n",
       "    <tr style=\"text-align: right;\">\n",
       "      <th></th>\n",
       "      <th>Pregnancies</th>\n",
       "      <th>Glucose</th>\n",
       "      <th>BloodPressure</th>\n",
       "      <th>SkinThickness</th>\n",
       "      <th>Insulin</th>\n",
       "      <th>BMI</th>\n",
       "      <th>DiabetesPedigreeFunction</th>\n",
       "      <th>Age</th>\n",
       "      <th>Outcome</th>\n",
       "    </tr>\n",
       "  </thead>\n",
       "  <tbody>\n",
       "    <tr>\n",
       "      <td>0</td>\n",
       "      <td>0.000000</td>\n",
       "      <td>1.000000</td>\n",
       "      <td>2.000000</td>\n",
       "      <td>3.000000</td>\n",
       "      <td>4.000000</td>\n",
       "      <td>5.000000</td>\n",
       "      <td>6.000000</td>\n",
       "      <td>7.000000</td>\n",
       "      <td>Outcome</td>\n",
       "    </tr>\n",
       "    <tr>\n",
       "      <td>1</td>\n",
       "      <td>0.639947</td>\n",
       "      <td>0.848324</td>\n",
       "      <td>0.149641</td>\n",
       "      <td>0.907270</td>\n",
       "      <td>-0.692891</td>\n",
       "      <td>0.204013</td>\n",
       "      <td>0.468492</td>\n",
       "      <td>1.425995</td>\n",
       "      <td>1</td>\n",
       "    </tr>\n",
       "    <tr>\n",
       "      <td>2</td>\n",
       "      <td>-0.844885</td>\n",
       "      <td>-1.123396</td>\n",
       "      <td>-0.160546</td>\n",
       "      <td>0.530902</td>\n",
       "      <td>-0.692891</td>\n",
       "      <td>-0.684422</td>\n",
       "      <td>-0.365061</td>\n",
       "      <td>-0.190672</td>\n",
       "      <td>0</td>\n",
       "    </tr>\n",
       "    <tr>\n",
       "      <td>3</td>\n",
       "      <td>1.233880</td>\n",
       "      <td>1.943724</td>\n",
       "      <td>-0.263941</td>\n",
       "      <td>-1.288212</td>\n",
       "      <td>-0.692891</td>\n",
       "      <td>-1.103255</td>\n",
       "      <td>0.604397</td>\n",
       "      <td>-0.105584</td>\n",
       "      <td>1</td>\n",
       "    </tr>\n",
       "    <tr>\n",
       "      <td>4</td>\n",
       "      <td>-0.844885</td>\n",
       "      <td>-0.998208</td>\n",
       "      <td>-0.160546</td>\n",
       "      <td>0.154533</td>\n",
       "      <td>0.123302</td>\n",
       "      <td>-0.494043</td>\n",
       "      <td>-0.920763</td>\n",
       "      <td>-1.041549</td>\n",
       "      <td>0</td>\n",
       "    </tr>\n",
       "  </tbody>\n",
       "</table>\n",
       "</div>"
      ],
      "text/plain": [
       "   Pregnancies   Glucose  BloodPressure  SkinThickness   Insulin       BMI  \\\n",
       "0     0.000000  1.000000       2.000000       3.000000  4.000000  5.000000   \n",
       "1     0.639947  0.848324       0.149641       0.907270 -0.692891  0.204013   \n",
       "2    -0.844885 -1.123396      -0.160546       0.530902 -0.692891 -0.684422   \n",
       "3     1.233880  1.943724      -0.263941      -1.288212 -0.692891 -1.103255   \n",
       "4    -0.844885 -0.998208      -0.160546       0.154533  0.123302 -0.494043   \n",
       "\n",
       "   DiabetesPedigreeFunction       Age  Outcome  \n",
       "0                  6.000000  7.000000  Outcome  \n",
       "1                  0.468492  1.425995        1  \n",
       "2                 -0.365061 -0.190672        0  \n",
       "3                  0.604397 -0.105584        1  \n",
       "4                 -0.920763 -1.041549        0  "
      ]
     },
     "execution_count": 32,
     "metadata": {},
     "output_type": "execute_result"
    }
   ],
   "source": [
    "df.head()"
   ]
  },
  {
   "cell_type": "code",
   "execution_count": 33,
   "metadata": {},
   "outputs": [],
   "source": [
    "FEATURES = list(df.columns[:-1])"
   ]
  },
  {
   "cell_type": "code",
   "execution_count": 35,
   "metadata": {},
   "outputs": [
    {
     "data": {
      "text/plain": [
       "['Pregnancies',\n",
       " 'Glucose',\n",
       " 'BloodPressure',\n",
       " 'SkinThickness',\n",
       " 'Insulin',\n",
       " 'BMI',\n",
       " 'DiabetesPedigreeFunction',\n",
       " 'Age']"
      ]
     },
     "execution_count": 35,
     "metadata": {},
     "output_type": "execute_result"
    }
   ],
   "source": [
    "FEATURES"
   ]
  },
  {
   "cell_type": "code",
   "execution_count": 36,
   "metadata": {},
   "outputs": [],
   "source": [
    "LABEL = 'Outcome'"
   ]
  },
  {
   "cell_type": "code",
   "execution_count": 44,
   "metadata": {},
   "outputs": [],
   "source": [
    "def  build_model(n_components):\n",
    "    X = df[FEATURES]\n",
    "    Y = df[LABEL]\n",
    "    fa_obj = FactorAnalysis(n_components=n_components,random_state=10,max_iter=10000)\n",
    "    x_new = fa_obj.fit_transform(X,Y)\n",
    "    X = pd.DataFrame(x_new)\n",
    "    x_train,x_test,y_train,y_test  = train_test_split(X,Y,test_size=0.3)\n",
    "    model = LogisticRegression(solver='liblinear',max_iter=1000)\n",
    "    model.fit(x_train,y_train)\n",
    "    y_pred = model.predict(x_test)\n",
    "    pred_results = pd.DataFrame({'y_test':y_test,'y_pred':y_pred})\n",
    "    \n",
    "    acc = accuracy_score(y_test,y_pred)\n",
    "#     prec = precision_score(y_test,y_pred)\n",
    "#     recall = recall_score(y_test,y_pred)\n",
    "    \n",
    "    return {\n",
    "        'fact_a_obj':fa_obj,\n",
    "        'transform_x':X,\n",
    "        'accuracy':acc,\n",
    "#         'precision':prec,\n",
    "#         'recall':recall\n",
    "    }"
   ]
  },
  {
   "cell_type": "code",
   "execution_count": 46,
   "metadata": {},
   "outputs": [
    {
     "name": "stderr",
     "output_type": "stream",
     "text": [
      "/home/learner/anaconda3/lib/python3.7/site-packages/sklearn/linear_model/logistic.py:469: FutureWarning: Default multi_class will be changed to 'auto' in 0.22. Specify the multi_class option to silence this warning.\n",
      "  \"this warning.\", FutureWarning)\n",
      "/home/learner/anaconda3/lib/python3.7/site-packages/sklearn/linear_model/logistic.py:469: FutureWarning: Default multi_class will be changed to 'auto' in 0.22. Specify the multi_class option to silence this warning.\n",
      "  \"this warning.\", FutureWarning)\n",
      "/home/learner/anaconda3/lib/python3.7/site-packages/sklearn/linear_model/logistic.py:469: FutureWarning: Default multi_class will be changed to 'auto' in 0.22. Specify the multi_class option to silence this warning.\n",
      "  \"this warning.\", FutureWarning)\n",
      "/home/learner/anaconda3/lib/python3.7/site-packages/sklearn/linear_model/logistic.py:469: FutureWarning: Default multi_class will be changed to 'auto' in 0.22. Specify the multi_class option to silence this warning.\n",
      "  \"this warning.\", FutureWarning)\n"
     ]
    }
   ],
   "source": [
    "result_dict = {}\n",
    "for i in range(1,9):\n",
    "    result_dict['n_components'+str(i)] = build_model(i)"
   ]
  },
  {
   "cell_type": "code",
   "execution_count": 47,
   "metadata": {},
   "outputs": [
    {
     "data": {
      "text/plain": [
       "{'n_components1': {'fact_a_obj': FactorAnalysis(copy=True, iterated_power=3, max_iter=10000, n_components=1,\n",
       "                 noise_variance_init=None, random_state=10,\n",
       "                 svd_method='randomized', tol=0.01),\n",
       "  'transform_x':             0\n",
       "  0    4.754939\n",
       "  1    0.401896\n",
       "  2   -0.390273\n",
       "  3   -0.679915\n",
       "  4   -0.320255\n",
       "  ..        ...\n",
       "  764  0.835431\n",
       "  765  0.053298\n",
       "  766 -0.125582\n",
       "  767 -0.781784\n",
       "  768 -0.195429\n",
       "  \n",
       "  [769 rows x 1 columns],\n",
       "  'accuracy': 0.683982683982684},\n",
       " 'n_components2': {'fact_a_obj': FactorAnalysis(copy=True, iterated_power=3, max_iter=10000, n_components=2,\n",
       "                 noise_variance_init=None, random_state=10,\n",
       "                 svd_method='randomized', tol=0.01),\n",
       "  'transform_x':             0         1\n",
       "  0    5.520049  4.051160\n",
       "  1    1.200355  0.297860\n",
       "  2   -0.428267 -0.223436\n",
       "  3    0.250712 -0.838163\n",
       "  4   -1.028725 -0.125869\n",
       "  ..        ...       ...\n",
       "  764  2.078427  0.673351\n",
       "  765 -0.483024  0.153069\n",
       "  766 -0.178034 -0.081369\n",
       "  767  0.691164 -0.910825\n",
       "  768 -0.880753  0.015341\n",
       "  \n",
       "  [769 rows x 2 columns],\n",
       "  'accuracy': 0.6493506493506493},\n",
       " 'n_components3': {'fact_a_obj': FactorAnalysis(copy=True, iterated_power=3, max_iter=10000, n_components=3,\n",
       "                 noise_variance_init=None, random_state=10,\n",
       "                 svd_method='randomized', tol=0.01),\n",
       "  'transform_x':             0         1         2\n",
       "  0    4.292863  5.626975  2.045813\n",
       "  1   -0.441556  1.261429  0.542625\n",
       "  2   -0.649824 -0.361995  0.018347\n",
       "  3   -0.694776  0.201337 -0.705410\n",
       "  4    0.007874 -1.035842 -0.246431\n",
       "  ..        ...       ...       ...\n",
       "  764  0.854209  2.105315 -0.099621\n",
       "  765 -0.527263 -0.453431  0.771169\n",
       "  766  0.178384 -0.216090 -0.464603\n",
       "  767 -0.719380  0.805861 -0.436118\n",
       "  768 -0.600719 -0.847878  0.422860\n",
       "  \n",
       "  [769 rows x 3 columns],\n",
       "  'accuracy': 0.6883116883116883},\n",
       " 'n_components4': {'fact_a_obj': FactorAnalysis(copy=True, iterated_power=3, max_iter=10000, n_components=4,\n",
       "                 noise_variance_init=None, random_state=10,\n",
       "                 svd_method='randomized', tol=0.01),\n",
       "  'transform_x':             0         1         2         3\n",
       "  0    5.631118  3.665424 -0.469775 -0.178023\n",
       "  1    0.656032  0.999797 -0.597261 -0.166896\n",
       "  2   -0.378463 -0.448512 -0.679366 -0.624459\n",
       "  3   -0.773453  0.696511  1.016317  0.510458\n",
       "  4   -0.414503 -0.989404 -0.087844 -0.353397\n",
       "  ..        ...       ...       ...       ...\n",
       "  764  1.464445  1.499997 -0.801990 -1.576797\n",
       "  765 -0.025546 -0.485293 -0.583468  0.452199\n",
       "  766 -0.078037 -0.161601  0.222861 -0.441183\n",
       "  767 -0.738819  0.943645  0.262717  0.327430\n",
       "  768 -0.284858 -0.894484 -0.741446 -0.207366\n",
       "  \n",
       "  [769 rows x 4 columns],\n",
       "  'accuracy': 0.7445887445887446},\n",
       " 'n_components5': {'fact_a_obj': FactorAnalysis(copy=True, iterated_power=3, max_iter=10000, n_components=5,\n",
       "                 noise_variance_init=None, random_state=10,\n",
       "                 svd_method='randomized', tol=0.01),\n",
       "  'transform_x':             0         1         2         3         4\n",
       "  0    6.697144  1.004735 -0.664755 -0.317471  2.817100\n",
       "  1    0.995054  0.670382 -0.540920 -0.018061  0.221967\n",
       "  2   -0.571693 -0.237442 -0.723262 -0.511866  0.071269\n",
       "  3   -0.319905  0.917113  1.199665  0.524754  0.187664\n",
       "  4   -0.820824 -0.721869 -0.167049 -0.364623 -0.396294\n",
       "  ..        ...       ...       ...       ...       ...\n",
       "  764  1.816211  0.852356 -1.089666 -1.532956 -0.642593\n",
       "  765 -0.244543 -0.416436 -0.504075  0.524060 -0.178983\n",
       "  766 -0.156322 -0.098859  0.151199 -0.442638 -0.469011\n",
       "  767 -0.289645  1.142030  0.321172  0.288132  0.130543\n",
       "  768 -0.663270 -0.680131 -0.740940 -0.097820 -0.105010\n",
       "  \n",
       "  [769 rows x 5 columns],\n",
       "  'accuracy': 0.7619047619047619},\n",
       " 'n_components6': {'fact_a_obj': FactorAnalysis(copy=True, iterated_power=3, max_iter=10000, n_components=6,\n",
       "                 noise_variance_init=None, random_state=10,\n",
       "                 svd_method='randomized', tol=0.01),\n",
       "  'transform_x':             0         1         2         3         4         5\n",
       "  0    5.367055  2.537749 -0.626511 -0.016240  3.033565 -0.853764\n",
       "  1    0.568555  0.926379 -0.420180 -0.033466  0.304631  0.110886\n",
       "  2   -0.503298 -0.586040 -0.648222  0.316736  0.127308 -0.317598\n",
       "  3   -0.565444  0.982924  1.186881 -0.336488 -0.056218  0.392940\n",
       "  4   -0.455851 -0.994230 -0.176867  0.285432 -0.341979 -0.212187\n",
       "  ..        ...       ...       ...       ...       ...       ...\n",
       "  764  1.188653  1.363455 -1.028585  1.538969 -0.268631 -0.107330\n",
       "  765 -0.046042 -0.460087 -0.456807 -0.556243 -0.128958  0.146582\n",
       "  766 -0.077957 -0.056081  0.129035  0.462716 -0.444758 -0.099982\n",
       "  767 -0.751910  0.610194  0.458833 -0.541120  0.320992 -0.286532\n",
       "  768 -0.360530 -0.898840 -0.706441 -0.012228 -0.096425 -0.136800\n",
       "  \n",
       "  [769 rows x 6 columns],\n",
       "  'accuracy': 0.7489177489177489},\n",
       " 'n_components7': {'fact_a_obj': FactorAnalysis(copy=True, iterated_power=3, max_iter=10000, n_components=7,\n",
       "                 noise_variance_init=None, random_state=10,\n",
       "                 svd_method='randomized', tol=0.01),\n",
       "  'transform_x':             0         1         2         3         4         5    6\n",
       "  0    5.370444  2.528926 -0.624536 -0.015915  3.026060 -0.853506  0.0\n",
       "  1    0.569700  0.925455 -0.418932 -0.033056  0.304243  0.110068  0.0\n",
       "  2   -0.504298 -0.584807 -0.647357  0.316434  0.126621 -0.317029  0.0\n",
       "  3   -0.563687  0.983112  1.186077 -0.336532 -0.055338  0.391340  0.0\n",
       "  4   -0.457448 -0.993145 -0.177010  0.285003 -0.341703 -0.211259  0.0\n",
       "  ..        ...       ...       ...       ...       ...       ...  ...\n",
       "  764  1.189813  1.362160 -1.026228  1.537482 -0.268548 -0.106929  0.0\n",
       "  765 -0.046695 -0.459918 -0.456738 -0.555121 -0.128442  0.146567  0.0\n",
       "  766 -0.078266 -0.055807  0.129038  0.461950 -0.444083 -0.099555  0.0\n",
       "  767 -0.750591  0.610876  0.458437 -0.541222  0.319690 -0.285671  0.0\n",
       "  768 -0.361960 -0.897831 -0.705951 -0.011870 -0.096334 -0.136378  0.0\n",
       "  \n",
       "  [769 rows x 7 columns],\n",
       "  'accuracy': 0.7272727272727273},\n",
       " 'n_components8': {'fact_a_obj': FactorAnalysis(copy=True, iterated_power=3, max_iter=10000, n_components=8,\n",
       "                 noise_variance_init=None, random_state=10,\n",
       "                 svd_method='randomized', tol=0.01),\n",
       "  'transform_x':             0         1         2         3         4    5    6    7\n",
       "  0    5.319949  0.946890  0.218076  0.692557  0.121183  0.0  0.0  0.0\n",
       "  1    0.633362  0.692579 -0.062055  0.087413  0.009147  0.0  0.0  0.0\n",
       "  2   -0.593304 -0.398367 -0.348659  0.074890 -0.017091  0.0  0.0  0.0\n",
       "  3   -0.287338  0.930760  0.765420 -0.065498  0.039831  0.0  0.0  0.0\n",
       "  4   -0.625289 -0.734453 -0.209643 -0.061404 -0.036838  0.0  0.0  0.0\n",
       "  ..        ...       ...       ...       ...       ...  ...  ...  ...\n",
       "  764  1.060691  1.067121 -0.362283  0.147694 -0.130028  0.0  0.0  0.0\n",
       "  765 -0.084461 -0.382328 -0.357474 -0.079145  0.019267  0.0  0.0  0.0\n",
       "  766 -0.150715  0.029993  0.051755 -0.062336 -0.048317  0.0  0.0  0.0\n",
       "  767 -0.553246  0.538053  0.216084 -0.087649  0.048742  0.0  0.0  0.0\n",
       "  768 -0.478832 -0.671338 -0.468649  0.003730 -0.009078  0.0  0.0  0.0\n",
       "  \n",
       "  [769 rows x 8 columns],\n",
       "  'accuracy': 0.683982683982684}}"
      ]
     },
     "execution_count": 47,
     "metadata": {},
     "output_type": "execute_result"
    }
   ],
   "source": [
    "result_dict"
   ]
  }
 ],
 "metadata": {
  "kernelspec": {
   "display_name": "Python 3",
   "language": "python",
   "name": "python3"
  },
  "language_info": {
   "codemirror_mode": {
    "name": "ipython",
    "version": 3
   },
   "file_extension": ".py",
   "mimetype": "text/x-python",
   "name": "python",
   "nbconvert_exporter": "python",
   "pygments_lexer": "ipython3",
   "version": "3.7.4"
  }
 },
 "nbformat": 4,
 "nbformat_minor": 2
}
