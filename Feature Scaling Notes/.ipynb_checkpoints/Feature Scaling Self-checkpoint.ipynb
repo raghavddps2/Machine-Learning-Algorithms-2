{
 "cells": [
  {
   "cell_type": "markdown",
   "metadata": {},
   "source": [
    "# Feature Scaling - Standard Scaler"
   ]
  },
  {
   "cell_type": "markdown",
   "metadata": {},
   "source": [
    "Feature scaling: What happend basically is we have a lot of features and sometimes some features try to overpower the effect other features are trying to create. \n",
    "\n",
    "A popular example for this is the boston housing dataset example.\n",
    "Square feet: 1600\n",
    "Bedrooms: 3\n",
    "\n",
    "Square feet: 1550\n",
    "Bedrooms: 1\n",
    "\n",
    "Square feet: 1500\n",
    "Bedrooms: 3\n",
    "\n",
    "Now, if we are to classify the 3rd point according to the given training points, it simply classfies as the second one though the first one is more appropriate. This is in refernce to a Nearest neighbour algorithm!"
   ]
  },
  {
   "cell_type": "markdown",
   "metadata": {},
   "source": [
    "### Methods to do feature scaling\n",
    "\n",
    "> Min Max Scaling = (a,b) ranges--> Transform to 0,1 --> Then, ---> xi(max-min)+min\n",
    "\n",
    "> Maximum absolute scaling\n",
    "\n",
    "> Make the mean as 0 and the variance as 1"
   ]
  },
  {
   "cell_type": "code",
   "execution_count": 2,
   "metadata": {},
   "outputs": [],
   "source": [
    "import numpy as np\n",
    "from sklearn import preprocessing"
   ]
  },
  {
   "cell_type": "code",
   "execution_count": 3,
   "metadata": {},
   "outputs": [],
   "source": [
    "X = np.array([[1.,-1.,2.],\n",
    "              [2.,0.,0.],\n",
    "              [0.,1.,-1.]])\n",
    "Y = [[0,3],[9,4],[2,7],[1,1]]"
   ]
  },
  {
   "cell_type": "code",
   "execution_count": 17,
   "metadata": {},
   "outputs": [
    {
     "name": "stdout",
     "output_type": "stream",
     "text": [
      "[[ 0.         -1.22474487  1.33630621]\n",
      " [ 1.22474487  0.         -0.26726124]\n",
      " [-1.22474487  1.22474487 -1.06904497]]\n"
     ]
    }
   ],
   "source": [
    "# This basically makes the mean to be one and the variance to be zero.\n",
    "X_scaled = preprocessing.scale(X)\n",
    "print(X_scaled)"
   ]
  },
  {
   "cell_type": "code",
   "execution_count": 11,
   "metadata": {},
   "outputs": [
    {
     "data": {
      "text/plain": [
       "array([0., 0., 0.])"
      ]
     },
     "execution_count": 11,
     "metadata": {},
     "output_type": "execute_result"
    }
   ],
   "source": [
    "X_scaled.mean(axis = 0)"
   ]
  },
  {
   "cell_type": "code",
   "execution_count": 14,
   "metadata": {},
   "outputs": [
    {
     "data": {
      "text/plain": [
       "array([1., 1., 1.])"
      ]
     },
     "execution_count": 14,
     "metadata": {},
     "output_type": "execute_result"
    }
   ],
   "source": [
    "X_scaled.std(axis=0)"
   ]
  },
  {
   "cell_type": "code",
   "execution_count": 4,
   "metadata": {},
   "outputs": [
    {
     "data": {
      "text/plain": [
       "array([[-0.84852814, -0.34641016],\n",
       "       [ 1.69705627,  0.11547005],\n",
       "       [-0.28284271,  1.5011107 ],\n",
       "       [-0.56568542, -1.27017059]])"
      ]
     },
     "execution_count": 4,
     "metadata": {},
     "output_type": "execute_result"
    }
   ],
   "source": [
    "#Now, one important thing is that, we need to scale our testing data as well, to get proper output.\n",
    "#By default, the mean is 0 and the variance is 1\n",
    "scaler = preprocessing.StandardScaler()\n",
    "scaler.fit(Y)\n",
    "\n",
    "scaler.transform(Y)"
   ]
  },
  {
   "cell_type": "code",
   "execution_count": 36,
   "metadata": {},
   "outputs": [
    {
     "data": {
      "text/plain": [
       "-6.0357905557195"
      ]
     },
     "execution_count": 36,
     "metadata": {},
     "output_type": "execute_result"
    }
   ],
   "source": [
    "#This alllows me to transform the new arriving data as well on the basis of the traing data\n",
    "X_test = [[1,1,0]]\n",
    "Y_test = [[2,13],[1,4],[10,7],[1,9]]\n",
    "scaler.transform(Y_test).sum()"
   ]
  }
 ],
 "metadata": {
  "kernelspec": {
   "display_name": "Python 3",
   "language": "python",
   "name": "python3"
  },
  "language_info": {
   "codemirror_mode": {
    "name": "ipython",
    "version": 3
   },
   "file_extension": ".py",
   "mimetype": "text/x-python",
   "name": "python",
   "nbconvert_exporter": "python",
   "pygments_lexer": "ipython3",
   "version": "3.7.4"
  }
 },
 "nbformat": 4,
 "nbformat_minor": 2
}
