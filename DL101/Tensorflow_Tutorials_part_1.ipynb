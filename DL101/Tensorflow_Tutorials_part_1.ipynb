{
 "cells": [
  {
   "cell_type": "code",
   "execution_count": 5,
   "metadata": {},
   "outputs": [],
   "source": [
    "import warnings\n",
    "warnings.filterwarnings('ignore')\n",
    "import numpy as np\n",
    "import tensorflow as tf"
   ]
  },
  {
   "cell_type": "code",
   "execution_count": 7,
   "metadata": {},
   "outputs": [],
   "source": [
    "import logging\n",
    "logger = tf.get_logger()\n",
    "logger.setLevel(logging.ERROR)"
   ]
  },
  {
   "cell_type": "code",
   "execution_count": 10,
   "metadata": {},
   "outputs": [
    {
     "name": "stdout",
     "output_type": "stream",
     "text": [
      "Using: \n",
      "Tensorflow version:  2.1.0\n"
     ]
    }
   ],
   "source": [
    "print('Using: ')\n",
    "print(\"Tensorflow version: \",tf.__version__)"
   ]
  },
  {
   "cell_type": "markdown",
   "metadata": {},
   "source": [
    "# Single Layer Network"
   ]
  },
  {
   "cell_type": "code",
   "execution_count": 31,
   "metadata": {},
   "outputs": [
    {
     "name": "stdout",
     "output_type": "stream",
     "text": [
      "Features:  tf.Tensor([[ 0.5983449   0.06276207  0.14631742  0.48481876 -0.23572342]], shape=(1, 5), dtype=float32)\n",
      "weights:  tf.Tensor([[-2.2733312  -1.6592104  -0.2633568  -0.80923414  1.0294315 ]], shape=(1, 5), dtype=float32)\n",
      "bias:  tf.Tensor([[1.5749502]], shape=(1, 1), dtype=float32)\n"
     ]
    }
   ],
   "source": [
    "#we set the random seed so that things are reproducible\n",
    "tf.random.set_seed(7)\n",
    "\n",
    "#create 5 random input features.\n",
    "features = tf.random.normal((1,5))\n",
    "\n",
    "#create random weights for our neural network\n",
    "weights  = tf.random.normal((1,5))\n",
    "\n",
    "#create a random bias term for our neural network\n",
    "bias = tf.random.normal((1,1))\n",
    "\n",
    "print(\"Features: \",features)\n",
    "print(\"weights: \",weights)\n",
    "print(\"bias: \",bias)"
   ]
  },
  {
   "cell_type": "code",
   "execution_count": 32,
   "metadata": {},
   "outputs": [],
   "source": [
    "def sigmoid_activation(x):\n",
    "    return 1/(1+tf.exp(-1*x))"
   ]
  },
  {
   "cell_type": "code",
   "execution_count": 33,
   "metadata": {},
   "outputs": [
    {
     "name": "stdout",
     "output_type": "stream",
     "text": [
      "Sigmoid output is:  tf.Tensor([[0.3628656]], shape=(1, 1), dtype=float32)\n"
     ]
    }
   ],
   "source": [
    "#First, all we have to do is multiply the two tensors we got.\n",
    "multiplication = tf.matmul(features,weights,transpose_b=True)\n",
    "#Once we are done with multiplication, our next step is to get the sum.\n",
    "sum_of_weights_features = tf.reduce_sum(multiplication)\n",
    "\n",
    "#Now, we just need to add the bias term\n",
    "input_for_sigmoid = sum_of_weights_features + bias\n",
    "\n",
    "#we have to pass this to the sigmoid function.\n",
    "ans = sigmoid_activation(input_for_sigmoid)\n",
    "\n",
    "print(\"Sigmoid output is: \",ans)"
   ]
  },
  {
   "cell_type": "code",
   "execution_count": 20,
   "metadata": {},
   "outputs": [
    {
     "data": {
      "text/plain": [
       "TensorShape([1, 5])"
      ]
     },
     "execution_count": 20,
     "metadata": {},
     "output_type": "execute_result"
    }
   ],
   "source": [
    "#getting to know the shape of the tensors we made.\n",
    "features.shape"
   ]
  },
  {
   "cell_type": "code",
   "execution_count": 23,
   "metadata": {},
   "outputs": [
    {
     "data": {
      "text/plain": [
       "TensorShape([1, 5])"
      ]
     },
     "execution_count": 23,
     "metadata": {},
     "output_type": "execute_result"
    }
   ],
   "source": [
    "weights.shape"
   ]
  },
  {
   "cell_type": "code",
   "execution_count": 25,
   "metadata": {},
   "outputs": [
    {
     "data": {
      "text/plain": [
       "TensorShape([1, 1])"
      ]
     },
     "execution_count": 25,
     "metadata": {},
     "output_type": "execute_result"
    }
   ],
   "source": [
    "bias.shape"
   ]
  },
  {
   "cell_type": "markdown",
   "metadata": {},
   "source": [
    "# Multi layer neural network"
   ]
  },
  {
   "cell_type": "code",
   "execution_count": 35,
   "metadata": {},
   "outputs": [],
   "source": [
    "# set the seed so that the things are reproducible\n",
    "tf.random.set_seed(7)\n",
    "\n",
    "#create three input features\n",
    "features = tf.random.normal((1,3))\n",
    "\n",
    "#Define the size of each layer in our network.\n",
    "n_input = features.shape[1] #no of input features.\n",
    "n_hidden = 2 #hidden units\n",
    "n_output = 1 #output units\n",
    "\n",
    "#create random weights connecting input to the hidden layer.\n",
    "W1  = tf.random.normal((n_input,n_hidden))\n",
    "\n",
    "#create random weights connecting the hidden layer and the output layer.\n",
    "W2 = tf.random.normal((n_hidden,n_output))\n",
    "\n",
    "#create random bias term for hidden and the output layers.\n",
    "B1 = tf.random.normal((1,n_hidden))\n",
    "B2 = tf.random.normal((1,n_output))\n",
    "\n"
   ]
  },
  {
   "cell_type": "code",
   "execution_count": 42,
   "metadata": {},
   "outputs": [],
   "source": [
    "features_for_hidden_layer = sigmoid_activation(tf.reduce_sum(tf.multiply(n_input,W1))+B1)"
   ]
  },
  {
   "cell_type": "code",
   "execution_count": 53,
   "metadata": {},
   "outputs": [],
   "source": [
    "output_layer_ans = sigmoid_activation(tf.reduce_sum(tf.multiply(features_for_hidden_layer,W2))+B2)"
   ]
  },
  {
   "cell_type": "code",
   "execution_count": 54,
   "metadata": {},
   "outputs": [
    {
     "name": "stdout",
     "output_type": "stream",
     "text": [
      "tf.Tensor([[0.10233609]], shape=(1, 1), dtype=float32)\n"
     ]
    }
   ],
   "source": [
    "print(output_layer_ans)"
   ]
  },
  {
   "cell_type": "markdown",
   "metadata": {},
   "source": [
    "# Numpy to tensorflow and back"
   ]
  },
  {
   "cell_type": "code",
   "execution_count": 47,
   "metadata": {},
   "outputs": [
    {
     "name": "stdout",
     "output_type": "stream",
     "text": [
      "<class 'numpy.ndarray'>\n",
      "[[0.36023427 0.99032902 0.98753691]\n",
      " [0.38484105 0.31740383 0.6407981 ]\n",
      " [0.17574729 0.59916708 0.8509532 ]\n",
      " [0.72668382 0.80361862 0.34393979]]\n"
     ]
    }
   ],
   "source": [
    "a = np.random.rand(4,3)\n",
    "print(type(a))\n",
    "print(a)"
   ]
  },
  {
   "cell_type": "code",
   "execution_count": 49,
   "metadata": {},
   "outputs": [
    {
     "name": "stdout",
     "output_type": "stream",
     "text": [
      "tf.Tensor(\n",
      "[[0.36023427 0.99032902 0.98753691]\n",
      " [0.38484105 0.31740383 0.6407981 ]\n",
      " [0.17574729 0.59916708 0.8509532 ]\n",
      " [0.72668382 0.80361862 0.34393979]], shape=(4, 3), dtype=float64)\n",
      "<class 'tensorflow.python.framework.ops.EagerTensor'>\n"
     ]
    }
   ],
   "source": [
    "b = tf.convert_to_tensor(a)\n",
    "print(b)\n",
    "print(type(b))"
   ]
  },
  {
   "cell_type": "code",
   "execution_count": 52,
   "metadata": {},
   "outputs": [
    {
     "name": "stdout",
     "output_type": "stream",
     "text": [
      "<class 'numpy.ndarray'>\n",
      "[[0.36023427 0.99032902 0.98753691]\n",
      " [0.38484105 0.31740383 0.6407981 ]\n",
      " [0.17574729 0.59916708 0.8509532 ]\n",
      " [0.72668382 0.80361862 0.34393979]]\n"
     ]
    }
   ],
   "source": [
    "c = b.numpy()\n",
    "print(type(c))\n",
    "print(c)"
   ]
  },
  {
   "cell_type": "code",
   "execution_count": null,
   "metadata": {},
   "outputs": [],
   "source": []
  }
 ],
 "metadata": {
  "kernelspec": {
   "display_name": "Python 3",
   "language": "python",
   "name": "python3"
  },
  "language_info": {
   "codemirror_mode": {
    "name": "ipython",
    "version": 3
   },
   "file_extension": ".py",
   "mimetype": "text/x-python",
   "name": "python",
   "nbconvert_exporter": "python",
   "pygments_lexer": "ipython3",
   "version": "3.7.4"
  }
 },
 "nbformat": 4,
 "nbformat_minor": 2
}
